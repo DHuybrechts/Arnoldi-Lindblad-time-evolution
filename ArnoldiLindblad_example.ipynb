{
 "cells": [
  {
   "cell_type": "code",
   "execution_count": 1,
   "metadata": {},
   "outputs": [],
   "source": [
    "import numpy as np\n",
    "from qutip import *\n",
    "from scipy import stats as st\n",
    "import scipy as sc\n",
    "from numpy import imag, real\n",
    "import time\n",
    "import scipy.sparse as sp\n",
    "import matplotlib.pyplot as plt\n",
    "import matplotlib as mpl"
   ]
  },
  {
   "cell_type": "markdown",
   "metadata": {},
   "source": [
    "## some initialization for figures (not important)"
   ]
  },
  {
   "cell_type": "code",
   "execution_count": 2,
   "metadata": {},
   "outputs": [],
   "source": [
    "font_size=20\n",
    "letter_size=22\n",
    "label_size=25\n",
    "title_font=28\n",
    "legend_size=23\n",
    "\n",
    "from matplotlib import rc\n",
    "rc('font', family='serif', size=font_size)\n",
    "rc('text', usetex=True)\n",
    "\n",
    "\n",
    "\n",
    "mpl.rcParams['lines.linewidth'] = 2\n",
    "mpl.rcParams['axes.labelsize'] = label_size\n",
    "mpl.rcParams['xtick.minor.visible']=True\n",
    "mpl.rcParams['xtick.major.size']=6\n",
    "mpl.rcParams['xtick.minor.size']=3\n",
    "mpl.rcParams['xtick.major.width']=1.4\n",
    "mpl.rcParams['xtick.minor.width']=0.9\n",
    "mpl.rcParams['xtick.direction']='in'\n",
    "\n",
    "mpl.rcParams['ytick.minor.visible']=True\n",
    "mpl.rcParams['ytick.major.size']=6\n",
    "mpl.rcParams['ytick.minor.size']=3\n",
    "mpl.rcParams['ytick.major.width']=2.1\n",
    "mpl.rcParams['ytick.minor.width']=1.3\n",
    "mpl.rcParams['ytick.direction']='in'\n",
    "\n",
    "mpl.rcParams['ytick.direction']='in'\n",
    "\n",
    "\n",
    "\n",
    "mpl.rcParams['legend.fontsize']=legend_size\n",
    "\n",
    "\n",
    "\n",
    "import matplotlib.ticker\n",
    "class MyLocator(matplotlib.ticker.AutoMinorLocator):\n",
    "    def __init__(self, n=2):\n",
    "        super().__init__(n=n)\n",
    "matplotlib.ticker.AutoMinorLocator = MyLocator        \n",
    "\n",
    "\n",
    "marker_sz = 10\n",
    "location='upper left'\n",
    "properties={'size':12}\n",
    "width_plot=8\n",
    "\n",
    "\n",
    "\n",
    "def get_axis_limits(ax, scalex=.1, scaley=.85):\n",
    "    return (ax.get_xlim()[0] + (ax.get_xlim()[1]-ax.get_xlim()[0])*scalex, ax.get_ylim()[0]+(ax.get_ylim()[1]-ax.get_ylim()[0])*scaley)\n",
    "\n",
    "colorlist=[plt.cm.brg(i) for i in np.linspace(0, 1, 6)]"
   ]
  },
  {
   "cell_type": "markdown",
   "metadata": {},
   "source": [
    "# The Arnoldi-Lindblad time evolution code"
   ]
  },
  {
   "cell_type": "code",
   "execution_count": 3,
   "metadata": {},
   "outputs": [],
   "source": [
    "def arnoldi_time_evolution(H, c_ops, vec_init,n , T, numsteps=100, condition='steady_state', tau=10**(-3), min_check=100, how_often=20):\n",
    "    \"\"\"    Computes the orthonormal basis of the (n + 1)-Krylov subspace of \n",
    "    mat spanned by {vec, mat*vec, ..., mat^n*vec}.\n",
    "\n",
    "    Arguments\n",
    "      H: Hamiltonian of the system\n",
    "      c_ops: dissipation operators of the systems\n",
    "      vec_init:  initial density matrix \n",
    "      n: maximal dimension of the Krylov subspace, must be an integer\n",
    "      T: evolution time per iteration\n",
    "      numsteps: number of steps in the time evolution up to time T\n",
    "      condition: condition for the wanted eigenvalues; function or keyword\n",
    "      tau: precision\n",
    "      min_check: iteration number where checking for convergency starts\n",
    "      how_often: interval of number of iterations where it checks for convergence\n",
    "    \n",
    "    Returns\n",
    "      Q: m x (n + 1) array of Qobj, the columns are an orthonormal basis of the\n",
    "        Krylov subspace.\n",
    "      h: (n + 1) x n array, E on basis S. It is upper Hessenberg and its \n",
    "          eigenvalues and eigenvectors converge towards those of E. \n",
    "      vals_good: converged eigenvalues of the evolution operator.\n",
    "      vecs_eff_good: converged right eigenvectors of the evolution operator/\n",
    "          Liouvillian.\n",
    "      vals_liouv_good: converged eigenvalues of the Liouvillian.\n",
    "      \n",
    "    \"\"\"\n",
    "    \n",
    "    HH=H.full()\n",
    "    cc_ops=[cc.full() for cc in c_ops]\n",
    "    def do_liouvillian(rho):\n",
    "        Lrho= -1.j*(np.dot(HH,rho) - np.dot(rho,HH))\n",
    "        for jump in cc_ops:\n",
    "            Lrho=Lrho + np.dot(jump,np.dot(rho,np.conj(np.transpose(jump))))- 0.5*(np.dot(rho,np.dot(np.conj(np.transpose(jump)),jump))+ np.dot(np.dot(np.conj(np.transpose(jump)),jump),rho))\n",
    "        return Lrho\n",
    "    \n",
    "    \n",
    "    if condition=='steady_state':\n",
    "        def condition(vv, vals):\n",
    "            return np.abs(vv)>0.95\n",
    "    elif isinstance(condition, int):\n",
    "        NN=condition\n",
    "        def condition(vv, vals):\n",
    "            index=np.argsort(abs(vals))\n",
    "            return vv in vals[index[-NN:]]\n",
    "        \n",
    "\n",
    "    q = operator_to_vector(vec_init).full()[:,0]\n",
    "    q/=np.linalg.norm(q)\n",
    "    m = q.shape[0]\n",
    "    sqrtm = int(np.sqrt(m))\n",
    "    h=np.zeros((n + 1, n), dtype=np.complex128)\n",
    "    Q=np.zeros((m, n+1), dtype=np.complex128)\n",
    "    Q[:, 0] = q  # Use it as the first Krylov vector\n",
    "\n",
    "    tlist=np.linspace(0, T, numsteps)\n",
    "    \n",
    "    for k in range(n):\n",
    "                     \n",
    "        q=q.reshape((sqrtm,sqrtm))\n",
    "        q=Qobj(q, dims=vec_init.dims, shape=vec_init.shape)\n",
    "        sol=mesolve(H, q, tlist, c_ops) #When not using QUTIP, use your own time evolution function here.\n",
    "                \n",
    "        v = sol.states[-1]  # Generate a new candidate vector\n",
    "        v=(v.full()).reshape((m,))\n",
    "        for j in range(k + 1):  # Subtract the projections on previous vectors\n",
    "            h[j, k] = np.dot(np.conj(Q[:, j]),v)\n",
    "            v = v - h[j, k] * Q[:, j]\n",
    "\n",
    "        h[k + 1, k] = np.linalg.norm(v)\n",
    "        \"\"\"\n",
    "        Orthonormalization is sub-optimal but more numerically stable\n",
    "        \"\"\"\n",
    "        eps = 1e-12  # If v is shorter than this threshold it is the zero vector\n",
    "        if h[k + 1, k] > eps:  # Add the produced vector to the list, unless\n",
    "            q = v / h[k + 1, k]  # the zero vector is produced.\n",
    "            Q[:, k + 1] = q\n",
    "\n",
    "         \n",
    "        \n",
    "        convergence=0\n",
    "        \n",
    "        \"\"\"\n",
    "        The following part is extremely sub-obptimal. How can we improve it?\n",
    "        \"\"\"\n",
    "        \n",
    "        if k%how_often==0 and k>min_check:\n",
    "\n",
    "            vals_eff, vecs_eff=np.linalg.eig(h[0:k, 0:k]) #calculate the effective eigenvalues and eigenvectors\n",
    "\n",
    "            vals_good=[]\n",
    "            vals_liouv_good=[]\n",
    "            vecs_eff_good=[]\n",
    "            convergence=1\n",
    "            for jj in range(len(vals_eff)): #loop to see which eigenvalues/ eigenvectors have converged\n",
    "                if condition(vals_eff[jj], vals_eff)==True:\n",
    "                    \n",
    "                    vec=vecs_eff[:,jj]\n",
    "                    vec=np.dot(Q[:,0:k],vec) #transforms the vector in the effective basis to one expressed in the original basis\n",
    "                    vec=vec/np.linalg.norm(vec)\n",
    "                    vec_r=vec.reshape((sqrtm,sqrtm))\n",
    "                    \n",
    "                    qq=Qobj(vec_r, dims=vec_init.dims, shape=vec_init.shape)\n",
    "\n",
    "                    sol=mesolve(H, qq, tlist, c_ops) #When not using QUTIP, use your own time evolution function here.\n",
    "                    \n",
    "                    \n",
    "                    diff=vals_eff[jj]*qq-sol.states[-1]\n",
    "                    if diff.norm()<tau: #convergence measure\n",
    "                        convergence*=1\n",
    "                        vals_good.append(vals_eff[jj]) #appends converged eigenvalue of the evolution operator\n",
    "                        qq=sol.states[-1].full() \n",
    "                        qq/=np.linalg.norm(qq) \n",
    "                        Lv=do_liouvillian(qq) \n",
    "                        vals_liouv_good.append(np.dot(np.conj(qq).reshape((m,)), Lv.reshape((m,))))   #calculates and appends the eigenvalue of the Liouvillian\n",
    "                        vecs_eff_good.append(qq) #appends the converged eigenvector\n",
    "                    else:\n",
    "                        convergence*=0\n",
    "                    \n",
    "            \n",
    "        if convergence: break\n",
    "            \n",
    "        if h[k + 1, k] < eps:  # If that happens, stop iterating.\n",
    "            break\n",
    "    print('Total number of iterations = '+str(k))\n",
    "    return Q, h, vals_good, vecs_eff_good, vals_liouv_good\n"
   ]
  },
  {
   "cell_type": "markdown",
   "metadata": {},
   "source": [
    "# DIMER example"
   ]
  },
  {
   "cell_type": "markdown",
   "metadata": {},
   "source": [
    "## Define the system"
   ]
  },
  {
   "cell_type": "code",
   "execution_count": 4,
   "metadata": {},
   "outputs": [],
   "source": [
    "gamma=1\n",
    "F=4.5\n",
    "U=20\n",
    "J=10\n",
    "Delta=5"
   ]
  },
  {
   "cell_type": "code",
   "execution_count": 5,
   "metadata": {},
   "outputs": [],
   "source": [
    "cutoff=8\n",
    "a=tensor(destroy(cutoff), qeye(cutoff))\n",
    "b=tensor(qeye(cutoff), destroy(cutoff))\n",
    "H=-Delta*(a.dag()*a+b.dag()*b) + F*(a+a.dag()+b+b.dag()) +U/2*(a.dag()**2*a**2+b.dag()**2*b**2) \n",
    "H=H- J * (a.dag()*b +b.dag()*a)\n",
    "c_ops=[np.sqrt(gamma)*a, np.sqrt(gamma)*b]\n",
    "LL=liouvillian(H, c_ops)\n",
    "T=0.05\n"
   ]
  },
  {
   "cell_type": "markdown",
   "metadata": {},
   "source": [
    "## Random initial state"
   ]
  },
  {
   "cell_type": "code",
   "execution_count": 6,
   "metadata": {},
   "outputs": [],
   "source": [
    "vec_init=np.random.random(a.shape[0])\n",
    "vec_init=vec_init/np.sum(vec_init)\n",
    "R=st.special_ortho_group.rvs(len(vec_init))\n",
    "vec_init=Qobj(np.dot(np.dot(R, np.diag(vec_init)), R.T),dims=a.dims, shape=a.shape)\n",
    "vec_init=vec_init/vec_init.tr()"
   ]
  },
  {
   "cell_type": "markdown",
   "metadata": {},
   "source": [
    "## Do the Arnoldi-Lindblad time evolution for the steady state"
   ]
  },
  {
   "cell_type": "code",
   "execution_count": 7,
   "metadata": {},
   "outputs": [
    {
     "name": "stdout",
     "output_type": "stream",
     "text": [
      "Total number of iterations = 120\n"
     ]
    }
   ],
   "source": [
    "tic=time.time()\n",
    "\n",
    "Q_ss, h_ss, vals_good_ss, vecs_eff_ss,vals_liouv_ss=arnoldi_time_evolution(H, c_ops, vec_init, 301, T, numsteps=10, condition=int(1), tau=10**(-3), min_check=80, how_often=10)\n",
    "\n",
    "toc=time.time()\n"
   ]
  },
  {
   "cell_type": "code",
   "execution_count": 8,
   "metadata": {},
   "outputs": [
    {
     "name": "stdout",
     "output_type": "stream",
     "text": [
      "[(-9.082570872463524e-05-1.6450189599176088e-14j)]\n"
     ]
    }
   ],
   "source": [
    "print(vals_liouv_ss)"
   ]
  },
  {
   "cell_type": "markdown",
   "metadata": {},
   "source": [
    "## Do the Arnoldi-Lindblad time evolution for 5 converged eigenvalues"
   ]
  },
  {
   "cell_type": "code",
   "execution_count": 9,
   "metadata": {
    "collapsed": true,
    "jupyter": {
     "outputs_hidden": true
    }
   },
   "outputs": [
    {
     "name": "stdout",
     "output_type": "stream",
     "text": [
      "Total number of iterations = 160\n"
     ]
    }
   ],
   "source": [
    "tic=time.time()\n",
    "\n",
    "Q_5, h_5, vals_good_5, vecs_eff_good_5,vals_liouv_good_5=arnoldi_time_evolution(H, c_ops, vec_init, 171, T, numsteps=10, condition=int(5), tau=10**(-3))\n",
    "\n",
    "toc=time.time()\n",
    "\n"
   ]
  },
  {
   "cell_type": "code",
   "execution_count": 10,
   "metadata": {},
   "outputs": [
    {
     "name": "stdout",
     "output_type": "stream",
     "text": [
      "[(1.6029119718759333e-07+1.3958622623660438e-14j), (-0.13479678225917335+3.0046494806090784e-15j), (-1.0352247734068216-8.356032879519582e-14j), (-0.9884839041650793-35.29659131138924j), (-0.9884839041650801+35.29659131138931j)]\n"
     ]
    }
   ],
   "source": [
    "print(vals_liouv_good_5)"
   ]
  },
  {
   "cell_type": "markdown",
   "metadata": {},
   "source": [
    "## Do the Arnoldi-Lindblad time evolution for 10 converged eigenvalues"
   ]
  },
  {
   "cell_type": "code",
   "execution_count": 11,
   "metadata": {},
   "outputs": [
    {
     "name": "stdout",
     "output_type": "stream",
     "text": [
      "Total number of iterations = 200\n"
     ]
    }
   ],
   "source": [
    "tic=time.time()\n",
    "\n",
    "Q_10, h_10, vals_good_10, vecs_eff_good_10,vals_liouv_good_10=arnoldi_time_evolution(H, c_ops, vec_init, 241, T, numsteps=10, condition=int(10), tau=10**(-3))\n",
    "\n",
    "toc=time.time()"
   ]
  },
  {
   "cell_type": "code",
   "execution_count": 12,
   "metadata": {},
   "outputs": [
    {
     "name": "stdout",
     "output_type": "stream",
     "text": [
      "10\n"
     ]
    }
   ],
   "source": [
    "print(len(vals_liouv_good_10))"
   ]
  },
  {
   "cell_type": "code",
   "execution_count": 13,
   "metadata": {},
   "outputs": [
    {
     "name": "stdout",
     "output_type": "stream",
     "text": [
      "28.44074845314026\n"
     ]
    }
   ],
   "source": [
    "print(toc-tic)"
   ]
  },
  {
   "cell_type": "markdown",
   "metadata": {},
   "source": [
    "## The exact solution"
   ]
  },
  {
   "cell_type": "code",
   "execution_count": 14,
   "metadata": {},
   "outputs": [],
   "source": [
    "tic=time.time()\n",
    "LLval, LLvecs=LL.eigenstates()\n",
    "toc=time.time()"
   ]
  },
  {
   "cell_type": "code",
   "execution_count": 15,
   "metadata": {},
   "outputs": [
    {
     "name": "stdout",
     "output_type": "stream",
     "text": [
      "146.68253469467163\n"
     ]
    }
   ],
   "source": [
    "print(toc-tic)"
   ]
  },
  {
   "cell_type": "markdown",
   "metadata": {},
   "source": [
    "## A figure of the results"
   ]
  },
  {
   "cell_type": "code",
   "execution_count": 16,
   "metadata": {},
   "outputs": [],
   "source": [
    "import matplotlib.pyplot as plt\n",
    "import matplotlib.path as mpath\n",
    "import numpy as np\n",
    "\n",
    "my_c=[ 1,  2,  2,  2, 79]\n",
    "my_v=[[0.0, -0.5],   [0.1, 0.],        [0., 0.5],        [-0.1, 0.],        [0., -0.5]]\n",
    "my_v_2=[[-0.5, 0.],   [0., 0.1],        [0.5, 0.0],        [0., -0.1],        [ -0.5, 0]]\n",
    "mine=mpath.Path(my_v)\n",
    "mine_2=mpath.Path(my_v_2)"
   ]
  },
  {
   "cell_type": "code",
   "execution_count": 17,
   "metadata": {},
   "outputs": [
    {
     "data": {
      "image/png": "[encoded data removed]",
      "text/plain": [
       "<Figure size 720x374.4 with 2 Axes>"
      ]
     },
     "metadata": {
      "needs_background": "light"
     },
     "output_type": "display_data"
    }
   ],
   "source": [
    "gg=LLval[np.real(LLval>-3)]\n",
    "gg=gg[np.abs(np.imag(gg))<38]\n",
    "      \n",
    "    \n",
    "to_plot_5=vals_liouv_good_5\n",
    "to_plot_10=[]\n",
    "for vv in vals_liouv_good_10:\n",
    "    if min([abs(ww - vv) for ww in to_plot_5])>0.01:\n",
    "        to_plot_10.append(vv)\n",
    "\n",
    "to_plot_big=[]\n",
    "to_plot_small=[]\n",
    "\n",
    "for ww in gg:\n",
    "    if min([abs(ww - vv) for vv in vals_liouv_good_10])>0.01:\n",
    "        to_plot_small.append(ww)\n",
    "    else:\n",
    "        to_plot_big.append(ww)\n",
    "\n",
    "fig, axs = plt.subplots(1,2, figsize=(10,5.2))\n",
    "axs[0].plot(np.real(to_plot_big), np.imag(to_plot_big), 'ro', markersize=8, label='ED')\n",
    "axs[0].plot(np.real(to_plot_small), np.imag(to_plot_small), 'ro', markersize=5)\n",
    "axs[0].plot(np.real(to_plot_10), np.imag(to_plot_10), 'g', linestyle='None',  marker=mine_2, markersize=15)\n",
    "axs[0].plot(np.real(to_plot_5), np.imag(to_plot_5), 'b', linestyle='None',  marker=mine, markersize=15)\n",
    "axs[0].set_xlim([-3.1, 0.1])\n",
    "axs[0].set_ylim([-40, 40])\n",
    "\n",
    "axs[0].set_xlabel(r'Re$(\\lambda_j)/\\gamma$')\n",
    "axs[0].set_ylabel(r'Re$(\\lambda_j)/\\gamma$')\n",
    "\n",
    "\n",
    "\n",
    "power=6\n",
    "\n",
    "theta=np.linspace(0, 2*np.pi, 101)\n",
    "radius_list=[1099]\n",
    "for vv in np.sort(vals_good_10):\n",
    "    vv=vv**power\n",
    "    radius=abs(vv)\n",
    "    if not(min([abs(rr-radius) for rr in radius_list])<0.01):\n",
    "        radius_list.append(radius)\n",
    "        axs[1].plot(np.real(vv*np.exp(1.j*theta)), np.imag(vv*np.exp(1.j*theta)), linestyle='--', lw=0.65)\n",
    "\n",
    "\n",
    "\n",
    "to_plot_5=vals_good_5\n",
    "to_plot_10=[]\n",
    "for vv in vals_good_10:\n",
    "    if min([abs(ww - vv) for ww in vals_good_5])>0.01:\n",
    "        to_plot_10.append(vv)        \n",
    "\n",
    "to_plot_big=[]\n",
    "to_plot_small=[]\n",
    "\n",
    "expval=np.array([np.exp(ll*T) for ll in LLval])\n",
    "\n",
    "\n",
    "for ww in expval:\n",
    "    if min([abs(ww - vv) for vv in vals_good_10])>0.01:\n",
    "        to_plot_small.append(ww**power)\n",
    "    else:\n",
    "        to_plot_big.append(ww**power)        \n",
    "\n",
    "\n",
    "\n",
    "axs[1].plot(np.real(to_plot_small), np.imag(to_plot_small), 'ro', markersize=2)\n",
    "\n",
    "\n",
    "axs[1].plot(np.real(to_plot_big), np.imag(to_plot_big), 'ro', markersize=8)\n",
    "axs[1].plot(np.real([vv**power for vv in to_plot_10]), np.imag([vv**power for vv in to_plot_10]),'g', linestyle='None',  marker=mine_2, markersize=15, label=r'Arnoldi TE ($\\hat{\\rho}_{10}$)')\n",
    "axs[1].plot(np.real([vv**power for vv in to_plot_5]), np.imag([vv**power for vv in to_plot_5]),'b', linestyle='None',  marker=mine, markersize=15, label=r'Arnoldi TE ($\\hat{\\rho}_{5}$)')\n",
    "\n",
    "\n",
    "\n",
    "axs[1].set_xlim([-1.05, 1.05])\n",
    "axs[1].set_ylim([-1.05, 1.05])\n",
    "\n",
    "axs[1].set_xlabel(r'Re$(\\epsilon_j)/\\gamma$')\n",
    "axs[1].set_ylabel(r'Re$(\\epsilon_j)/\\gamma$')\n",
    "\n",
    "plt.tight_layout(rect=[0,0,1,0.93])\n",
    "\n",
    "leg = fig.legend(loc='upper center',ncol=8, borderpad=0.2, labelspacing=1, handlelength=1, handletextpad=0.5, borderaxespad=0.25, columnspacing=1, fontsize=20)\n",
    "\n",
    "\n",
    "axs[0].annotate(r'\\bf{(a)}', xy=get_axis_limits(axs[0],0.88, 0.07))\n",
    "axs[1].annotate(r'\\bf{(b)}', xy=get_axis_limits(axs[1],0.88, 0.07))\n",
    "\n",
    "axs[1].set_yticks([-1, -0.5, 0, 0.5, 1])\n",
    "axs[1].set_yticklabels(['-1', '-0.5', '0', '0.5', '1'])\n",
    "plt.show()"
   ]
  },
  {
   "cell_type": "markdown",
   "metadata": {},
   "source": [
    "## Calculating the expectation value of e.g. the steady state"
   ]
  },
  {
   "cell_type": "code",
   "execution_count": 18,
   "metadata": {},
   "outputs": [],
   "source": [
    "rhoss_eff = Qobj(vecs_eff_ss[0])"
   ]
  },
  {
   "cell_type": "code",
   "execution_count": 19,
   "metadata": {},
   "outputs": [],
   "source": [
    "rhoss_eff = rhoss_eff/rhoss_eff.tr()"
   ]
  },
  {
   "cell_type": "code",
   "execution_count": 20,
   "metadata": {},
   "outputs": [],
   "source": [
    "rhoss_eff = Qobj(rhoss_eff.full(), dims=[[8,8],[8,8]], shape = (64,64))"
   ]
  },
  {
   "cell_type": "code",
   "execution_count": 21,
   "metadata": {},
   "outputs": [
    {
     "data": {
      "text/plain": [
       "0.5406308044912576"
      ]
     },
     "execution_count": 21,
     "metadata": {},
     "output_type": "execute_result"
    }
   ],
   "source": [
    "expect(a.dag()*a, rhoss_eff)"
   ]
  },
  {
   "cell_type": "markdown",
   "metadata": {},
   "source": [
    "## and with the exact solution"
   ]
  },
  {
   "cell_type": "code",
   "execution_count": 22,
   "metadata": {},
   "outputs": [
    {
     "name": "stdout",
     "output_type": "stream",
     "text": [
      "0.5413273372204629\n"
     ]
    }
   ],
   "source": [
    "#steady state\n",
    "rhoss = steadystate(LL)\n",
    "print(expect(a.dag()*a, rhoss))"
   ]
  },
  {
   "cell_type": "markdown",
   "metadata": {},
   "source": [
    "## quick check of the difference between both"
   ]
  },
  {
   "cell_type": "code",
   "execution_count": 23,
   "metadata": {},
   "outputs": [
    {
     "name": "stdout",
     "output_type": "stream",
     "text": [
      "0.0006965327292053347\n"
     ]
    }
   ],
   "source": [
    "print(np.abs(expect(a.dag()*a, rhoss) - expect(a.dag()*a, rhoss_eff)))"
   ]
  },
  {
   "cell_type": "markdown",
   "metadata": {},
   "source": [
    "This difference can be either improved by decreasing the value of tau (i.e. the measure of convergence) or calculating more eigenvalues (in other words, a few more iterations are usually needed to find the next eigenvalues, also improving the estimation of the steady state)"
   ]
  },
  {
   "cell_type": "code",
   "execution_count": null,
   "metadata": {},
   "outputs": [],
   "source": []
  }
 ],
 "metadata": {
  "kernelspec": {
   "display_name": "Python 3",
   "language": "python",
   "name": "python3"
  },
  "language_info": {
   "codemirror_mode": {
    "name": "ipython",
    "version": 3
   },
   "file_extension": ".py",
   "mimetype": "text/x-python",
   "name": "python",
   "nbconvert_exporter": "python",
   "pygments_lexer": "ipython3",
   "version": "3.9.5"
  },
  "latex_envs": {
   "LaTeX_envs_menu_present": true,
   "autoclose": false,
   "autocomplete": true,
   "bibliofile": "biblio.bib",
   "cite_by": "apalike",
   "current_citInitial": 1,
   "eqLabelWithNumbers": true,
   "eqNumInitial": 1,
   "hotkeys": {
    "equation": "Ctrl-E",
    "itemize": "Ctrl-I"
   },
   "labels_anchors": false,
   "latex_user_defs": false,
   "report_style_numbering": false,
   "user_envs_cfg": false
  }
 },
 "nbformat": 4,
 "nbformat_minor": 4
}
